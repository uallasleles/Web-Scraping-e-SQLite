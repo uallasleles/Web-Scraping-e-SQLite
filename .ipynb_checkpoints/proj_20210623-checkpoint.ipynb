{
 "cells": [
  {
   "cell_type": "markdown",
   "id": "7dba40f3",
   "metadata": {},
   "source": [
    "# Título"
   ]
  },
  {
   "cell_type": "markdown",
   "id": "e1d3ce3f",
   "metadata": {},
   "source": [
    "## Subtítulo"
   ]
  },
  {
   "cell_type": "markdown",
   "id": "8ec5e74d",
   "metadata": {},
   "source": [
    "- imagem"
   ]
  },
  {
   "cell_type": "markdown",
   "id": "1e2ee858",
   "metadata": {},
   "source": [
    "#### Definição do Problema\n",
    "- Origem dos Dados"
   ]
  },
  {
   "cell_type": "markdown",
   "id": "f2720143",
   "metadata": {},
   "source": [
    "## Mão na Massa"
   ]
  },
  {
   "cell_type": "markdown",
   "id": "b05fe5a3",
   "metadata": {},
   "source": [
    "### Importação dos Pacotes"
   ]
  },
  {
   "cell_type": "code",
   "execution_count": 8,
   "id": "9880b01b",
   "metadata": {},
   "outputs": [],
   "source": [
    "import requests\n",
    "from lxml import html\n",
    "import pandas as pd\n",
    "import sqlite3"
   ]
  },
  {
   "cell_type": "markdown",
   "id": "421dc6c8",
   "metadata": {},
   "source": [
    "### Obtendo os Dados"
   ]
  },
  {
   "cell_type": "code",
   "execution_count": 2,
   "id": "393acf0e",
   "metadata": {},
   "outputs": [],
   "source": [
    "# VARIÁVEIS\n",
    "OVERWRITE = False"
   ]
  },
  {
   "cell_type": "code",
   "execution_count": 10,
   "id": "c3609d9a",
   "metadata": {},
   "outputs": [],
   "source": [
    "# URL's\n",
    "URL_LIST = []\n",
    "URL_LIST.append('https://github.com/uallasleles?tab=repositories')\n",
    "URL_LIST.append('https://github.com/vitorfs?tab=repositories')\n",
    "URL_LIST.append('https://github.com/franklin390?tab=repositories')\n",
    "URL_LIST.append('https://github.com/VictorSRocha?tab=repositories')"
   ]
  },
  {
   "cell_type": "markdown",
   "id": "44ca5255",
   "metadata": {},
   "source": [
    "- Criando a função para extrair os dados"
   ]
  },
  {
   "cell_type": "code",
   "execution_count": 26,
   "id": "cf9b3371",
   "metadata": {},
   "outputs": [],
   "source": [
    "def scraping_page(html):\n",
    "    global user_repositories_list\n",
    "    \n",
    "    # Obtem um fragmento do html\n",
    "    e = html.get_element_by_id(\"user-repositories-list\")\n",
    "    \n",
    "    # Extraio os elementos\n",
    "    for i in e.getchildren()[0]:\n",
    "        for v in i.getchildren()[0:3]:\n",
    "\n",
    "            try: repo_user = URL\n",
    "            except: repo_user = ''\n",
    "\n",
    "            try: repo_name = v.getchildren()[0].getchildren()[0].text_content().strip().replace('\\n', '')\n",
    "            except: repo_name = ''\n",
    "\n",
    "            if len(repo_name) != 0:\n",
    "                try: repo_fork = v.getchildren()[0].getchildren()[1].text_content().strip().replace('\\n', '')\n",
    "                except: repo_fork = ''\n",
    "\n",
    "                try: repo_desc = v.getchildren()[1].getchildren()[0].text_content().strip().replace('\\n', '')\n",
    "                except: repo_desc = ''\n",
    "\n",
    "                user_repositories_list = user_repositories_list.append(\n",
    "                    {\n",
    "                        'user': repo_user,\n",
    "                        'name': repo_name,\n",
    "                        'fork': repo_fork,\n",
    "                        'desc': repo_desc\n",
    "                    },\n",
    "                    ignore_index = True)\n",
    "                \n",
    "    return user_repositories_list"
   ]
  },
  {
   "cell_type": "markdown",
   "id": "6b4bac45",
   "metadata": {},
   "source": [
    "- Extraindo os Dados"
   ]
  },
  {
   "cell_type": "code",
   "execution_count": 27,
   "id": "4f395741",
   "metadata": {},
   "outputs": [
    {
     "name": "stdout",
     "output_type": "stream",
     "text": [
      "                                                user  ...                                               desc\n",
      "0    https://github.com/uallasleles?tab=repositories  ...                                                   \n",
      "1    https://github.com/uallasleles?tab=repositories  ...                                                   \n",
      "2    https://github.com/uallasleles?tab=repositories  ...  Relação de projetos, ideias e habilidades dese...\n",
      "3    https://github.com/uallasleles?tab=repositories  ...      Odoo. Open Source Apps To Grow Your Business.\n",
      "4    https://github.com/uallasleles?tab=repositories  ...  Odoo Maintainers Tools & conventions for OCA m...\n",
      "..                                               ...  ...                                                ...\n",
      "63   https://github.com/franklin390?tab=repositories  ...  Neste projeto de aprendizado de máquina, vamos...\n",
      "64  https://github.com/VictorSRocha?tab=repositories  ...                                    Website Profile\n",
      "65  https://github.com/VictorSRocha?tab=repositories  ...                                                   \n",
      "66  https://github.com/VictorSRocha?tab=repositories  ...  Projeto para criação de um modelo para Previsã...\n",
      "67  https://github.com/VictorSRocha?tab=repositories  ...  Projeto para criação de um algoritmo para Dete...\n",
      "\n",
      "[68 rows x 4 columns]\n"
     ]
    }
   ],
   "source": [
    "# Dicionário para receber os dados\n",
    "user_repositories_list = pd.DataFrame(columns=['user', 'name', 'fork', 'desc'])\n",
    "\n",
    "for URL in URL_LIST:\n",
    "    r = requests.get(URL)\n",
    "    assert r.status_code == 200, f\"Falha no request.\"\n",
    "\n",
    "    # Retorna document_fromstring ou fragment_fromstring, com base em se a string parece um documento completo ou apenas um fragmento.\n",
    "    html = html.fromstring(r.text)\n",
    "    \n",
    "    # Chama a função para o scraping\n",
    "    user_repositories_list = scraping_page(html)\n",
    "    \n",
    "print(user_repositories_list)"
   ]
  },
  {
   "cell_type": "markdown",
   "id": "bc2d7fc4",
   "metadata": {},
   "source": [
    "## Armazenando em um Banco de Dados"
   ]
  },
  {
   "cell_type": "markdown",
   "id": "90681fa7",
   "metadata": {},
   "source": [
    "- Criando uma conexão"
   ]
  },
  {
   "cell_type": "code",
   "execution_count": 28,
   "id": "b63d3cb6",
   "metadata": {},
   "outputs": [],
   "source": [
    "# Criando um banco e uma conexão.\n",
    "con = sqlite3.connect('proj_20210623.db')\n",
    "# Criando um cursor para acessar os dados.\n",
    "cur = con.cursor()"
   ]
  },
  {
   "cell_type": "markdown",
   "id": "b47a3441",
   "metadata": {},
   "source": [
    "- Criando uma tabela"
   ]
  },
  {
   "cell_type": "code",
   "execution_count": 29,
   "id": "20abe6a8",
   "metadata": {},
   "outputs": [],
   "source": [
    "# Definindo as instruções sql necessárias\n",
    "sql_delete_table = '''DELETE FROM user_repositories_list'''\n",
    "sql_create_table = '''CREATE TABLE IF NOT EXISTS user_repositories_list (user text, name text, fork text, desc text)'''\n",
    "sql_insert_table = '''INSERT INTO user_repositories_list (user, name, fork, desc) VALUES (?, ?, ?, ?)'''\n",
    "sql_query = '''SELECT * FROM user_repositories_list'''"
   ]
  },
  {
   "cell_type": "code",
   "execution_count": 30,
   "id": "e5fdfe66",
   "metadata": {},
   "outputs": [],
   "source": [
    "# Criando a tabela\n",
    "if OVERWRITE:\n",
    "    try:\n",
    "        cur.execute(sql_delete_table)\n",
    "        pass\n",
    "    finally:\n",
    "        cur.execute(sql_create_table)\n",
    "    con.commit()"
   ]
  },
  {
   "cell_type": "markdown",
   "id": "1d2b8b56",
   "metadata": {},
   "source": [
    "- Inserindo os Dados"
   ]
  },
  {
   "cell_type": "code",
   "execution_count": 31,
   "id": "3800595a",
   "metadata": {},
   "outputs": [],
   "source": [
    "# Inserindo os dados\n",
    "for r in user_repositories_list.itertuples():\n",
    "    cur.execute(sql_insert_table, r[1:5])\n",
    "con.commit()"
   ]
  },
  {
   "cell_type": "markdown",
   "id": "96f53005",
   "metadata": {},
   "source": [
    "## Consulta e Análise"
   ]
  },
  {
   "cell_type": "markdown",
   "id": "0c57ea30",
   "metadata": {},
   "source": [
    "- Recuperando os dados"
   ]
  },
  {
   "cell_type": "code",
   "execution_count": 35,
   "id": "977a93ac",
   "metadata": {},
   "outputs": [
    {
     "data": {
      "text/html": [
       "<div>\n",
       "<style scoped>\n",
       "    .dataframe tbody tr th:only-of-type {\n",
       "        vertical-align: middle;\n",
       "    }\n",
       "\n",
       "    .dataframe tbody tr th {\n",
       "        vertical-align: top;\n",
       "    }\n",
       "\n",
       "    .dataframe thead th {\n",
       "        text-align: right;\n",
       "    }\n",
       "</style>\n",
       "<table border=\"1\" class=\"dataframe\">\n",
       "  <thead>\n",
       "    <tr style=\"text-align: right;\">\n",
       "      <th></th>\n",
       "      <th>user</th>\n",
       "      <th>name</th>\n",
       "      <th>fork</th>\n",
       "      <th>desc</th>\n",
       "    </tr>\n",
       "  </thead>\n",
       "  <tbody>\n",
       "    <tr>\n",
       "      <th>0</th>\n",
       "      <td>https://github.com/uallasleles?tab=repositories</td>\n",
       "      <td>uallasleles.github.io</td>\n",
       "      <td></td>\n",
       "      <td></td>\n",
       "    </tr>\n",
       "    <tr>\n",
       "      <th>1</th>\n",
       "      <td>https://github.com/uallasleles?tab=repositories</td>\n",
       "      <td>proj_20210619-Early_Stage_Diabetes_Risk_Predic...</td>\n",
       "      <td></td>\n",
       "      <td></td>\n",
       "    </tr>\n",
       "    <tr>\n",
       "      <th>2</th>\n",
       "      <td>https://github.com/uallasleles?tab=repositories</td>\n",
       "      <td>portfolio</td>\n",
       "      <td></td>\n",
       "      <td>Relação de projetos, ideias e habilidades dese...</td>\n",
       "    </tr>\n",
       "    <tr>\n",
       "      <th>3</th>\n",
       "      <td>https://github.com/uallasleles?tab=repositories</td>\n",
       "      <td>odoo</td>\n",
       "      <td>Forked from odoo/odoo</td>\n",
       "      <td>Odoo. Open Source Apps To Grow Your Business.</td>\n",
       "    </tr>\n",
       "    <tr>\n",
       "      <th>4</th>\n",
       "      <td>https://github.com/uallasleles?tab=repositories</td>\n",
       "      <td>maintainer-tools</td>\n",
       "      <td>Forked from OCA/maintainer-tools</td>\n",
       "      <td>Odoo Maintainers Tools &amp; conventions for OCA m...</td>\n",
       "    </tr>\n",
       "    <tr>\n",
       "      <th>...</th>\n",
       "      <td>...</td>\n",
       "      <td>...</td>\n",
       "      <td>...</td>\n",
       "      <td>...</td>\n",
       "    </tr>\n",
       "    <tr>\n",
       "      <th>110</th>\n",
       "      <td>https://github.com/franklin390?tab=repositories</td>\n",
       "      <td>Project_02_Group_Bimbo_Inventory_Demand</td>\n",
       "      <td></td>\n",
       "      <td>Neste projeto de aprendizado de máquina, vamos...</td>\n",
       "    </tr>\n",
       "    <tr>\n",
       "      <th>111</th>\n",
       "      <td>https://github.com/VictorSRocha?tab=repositories</td>\n",
       "      <td>VictorSRocha.github.io</td>\n",
       "      <td></td>\n",
       "      <td>Website Profile</td>\n",
       "    </tr>\n",
       "    <tr>\n",
       "      <th>112</th>\n",
       "      <td>https://github.com/VictorSRocha?tab=repositories</td>\n",
       "      <td>Prevendo-o-Nivel-de-Satisfacao-dos-Clientes</td>\n",
       "      <td></td>\n",
       "      <td></td>\n",
       "    </tr>\n",
       "    <tr>\n",
       "      <th>113</th>\n",
       "      <td>https://github.com/VictorSRocha?tab=repositories</td>\n",
       "      <td>Prevendo-Demanda-de-Estoque-com-Base-em-Vendas</td>\n",
       "      <td></td>\n",
       "      <td>Projeto para criação de um modelo para Previsã...</td>\n",
       "    </tr>\n",
       "    <tr>\n",
       "      <th>114</th>\n",
       "      <td>https://github.com/VictorSRocha?tab=repositories</td>\n",
       "      <td>Deteccao-de-Fraudes-no-Trafego-de-Cliques-em-P...</td>\n",
       "      <td></td>\n",
       "      <td>Projeto para criação de um algoritmo para Dete...</td>\n",
       "    </tr>\n",
       "  </tbody>\n",
       "</table>\n",
       "<p>115 rows × 4 columns</p>\n",
       "</div>"
      ],
      "text/plain": [
       "                                                 user  ...                                               desc\n",
       "0     https://github.com/uallasleles?tab=repositories  ...                                                   \n",
       "1     https://github.com/uallasleles?tab=repositories  ...                                                   \n",
       "2     https://github.com/uallasleles?tab=repositories  ...  Relação de projetos, ideias e habilidades dese...\n",
       "3     https://github.com/uallasleles?tab=repositories  ...      Odoo. Open Source Apps To Grow Your Business.\n",
       "4     https://github.com/uallasleles?tab=repositories  ...  Odoo Maintainers Tools & conventions for OCA m...\n",
       "..                                                ...  ...                                                ...\n",
       "110   https://github.com/franklin390?tab=repositories  ...  Neste projeto de aprendizado de máquina, vamos...\n",
       "111  https://github.com/VictorSRocha?tab=repositories  ...                                    Website Profile\n",
       "112  https://github.com/VictorSRocha?tab=repositories  ...                                                   \n",
       "113  https://github.com/VictorSRocha?tab=repositories  ...  Projeto para criação de um modelo para Previsã...\n",
       "114  https://github.com/VictorSRocha?tab=repositories  ...  Projeto para criação de um algoritmo para Dete...\n",
       "\n",
       "[115 rows x 4 columns]"
      ]
     },
     "execution_count": 35,
     "metadata": {},
     "output_type": "execute_result"
    }
   ],
   "source": [
    "pd.read_sql_query(sql_query, con)"
   ]
  },
  {
   "cell_type": "markdown",
   "id": "45571be9",
   "metadata": {},
   "source": [
    "- Modificando os dados"
   ]
  },
  {
   "cell_type": "code",
   "execution_count": null,
   "id": "043db89d",
   "metadata": {},
   "outputs": [],
   "source": [
    "# Não vou precisar modificar estes dados, mas caso queira saber, isso seria possível da seguinte forma:\n",
    "sql_udt_desc = '''UPDATE user_repositories_list SET desc = \"SEM DESCRIÇÃO\" WHERE desc = \"\"'''\n",
    "cur.execute(sql_udt_desc)\n",
    "con.commit()"
   ]
  },
  {
   "cell_type": "markdown",
   "id": "3f8c9901",
   "metadata": {},
   "source": [
    "- Análise Estatísca Básica"
   ]
  },
  {
   "cell_type": "markdown",
   "id": "07ca9d12",
   "metadata": {},
   "source": [
    "## Fim"
   ]
  },
  {
   "cell_type": "code",
   "execution_count": null,
   "id": "6ba6bf2b",
   "metadata": {},
   "outputs": [],
   "source": [
    "con.close()"
   ]
  }
 ],
 "metadata": {
  "kernelspec": {
   "display_name": "Python 3 (Spyder)",
   "language": "python3",
   "name": "python3"
  },
  "language_info": {
   "codemirror_mode": {
    "name": "ipython",
    "version": 3
   },
   "file_extension": ".py",
   "mimetype": "text/x-python",
   "name": "python",
   "nbconvert_exporter": "python",
   "pygments_lexer": "ipython3",
   "version": "3.8.8"
  }
 },
 "nbformat": 4,
 "nbformat_minor": 5
}
