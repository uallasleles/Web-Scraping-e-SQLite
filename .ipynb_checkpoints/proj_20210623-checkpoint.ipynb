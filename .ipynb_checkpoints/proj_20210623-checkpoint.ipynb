{
 "cells": [
  {
   "cell_type": "markdown",
   "id": "7dba40f3",
   "metadata": {},
   "source": [
    "# Web Scraping e SQLite"
   ]
  },
  {
   "cell_type": "markdown",
   "id": "e1d3ce3f",
   "metadata": {},
   "source": [
    "## Obtendo dados de páginas web e salvando em um banco de dados"
   ]
  },
  {
   "cell_type": "markdown",
   "id": "8ec5e74d",
   "metadata": {},
   "source": [
    "<p>O objetivo deste projeto é obter dados de páginas web através de web scraping e salvá-los em um banco de dados SQLite.</p>\n",
    "<p>Neste trabalho, especificamente, não há preocupação na relevância dos dados ou na exploração de insights. A finalidade é construir um workflow básico que faça a extração e estruturação dos dados para etapas seguintes.</p>"
   ]
  },
  {
   "cell_type": "markdown",
   "id": "1e2ee858",
   "metadata": {},
   "source": [
    "#### Definição do Problema\n",
    "- Vamos obter dados de listas de repositórios no GitHub através de web scraping, e então salvá-los em um banco de dados."
   ]
  },
  {
   "cell_type": "markdown",
   "id": "f2720143",
   "metadata": {},
   "source": [
    "## Mão na Massa"
   ]
  },
  {
   "cell_type": "markdown",
   "id": "b05fe5a3",
   "metadata": {},
   "source": [
    "### Importação dos Pacotes"
   ]
  },
  {
   "cell_type": "code",
   "execution_count": 1,
   "id": "9880b01b",
   "metadata": {},
   "outputs": [],
   "source": [
    "import requests\n",
    "from lxml import html\n",
    "import pandas as pd\n",
    "import sqlite3"
   ]
  },
  {
   "cell_type": "markdown",
   "id": "421dc6c8",
   "metadata": {},
   "source": [
    "### Obtendo os Dados"
   ]
  },
  {
   "cell_type": "code",
   "execution_count": 2,
   "id": "393acf0e",
   "metadata": {},
   "outputs": [],
   "source": [
    "# VARIÁVEIS\n",
    "OVERWRITE = False\n",
    "\n",
    "# Caso deseje acumular ou não as listas de reposiórios de diferentes usuários"
   ]
  },
  {
   "cell_type": "code",
   "execution_count": 3,
   "id": "c3609d9a",
   "metadata": {},
   "outputs": [],
   "source": [
    "# URL's\n",
    "URL_LIST = []\n",
    "URL_LIST.append('https://github.com/uallasleles?tab=repositories')\n",
    "URL_LIST.append('https://github.com/vitorfs?tab=repositories')\n",
    "URL_LIST.append('https://github.com/franklin390?tab=repositories')\n",
    "URL_LIST.append('https://github.com/VictorSRocha?tab=repositories')\n",
    "\n",
    "# Aqui colocamos a url da aba repositórios da página de cada usuário desejado"
   ]
  },
  {
   "cell_type": "markdown",
   "id": "44ca5255",
   "metadata": {},
   "source": [
    "- Criando a função para extrair os dados"
   ]
  },
  {
   "cell_type": "code",
   "execution_count": 4,
   "id": "cf9b3371",
   "metadata": {},
   "outputs": [],
   "source": [
    "# Esta é a função que realiza a extração dos dados da página web.\n",
    "def scraping_page(html):\n",
    "    global user_repositories_list\n",
    "    \n",
    "    # Obtem um fragmento do html\n",
    "    e = html.get_element_by_id(\"user-repositories-list\")\n",
    "    \n",
    "    # Extraio os elementos\n",
    "    for i in e.getchildren()[0]:\n",
    "        for v in i.getchildren()[0:3]:\n",
    "\n",
    "            try: repo_user = URL\n",
    "            except: repo_user = ''\n",
    "\n",
    "            try: repo_name = v.getchildren()[0].getchildren()[0].text_content().strip().replace('\\n', '')\n",
    "            except: repo_name = ''\n",
    "\n",
    "            if len(repo_name) != 0:\n",
    "                try: repo_fork = v.getchildren()[0].getchildren()[1].text_content().strip().replace('\\n', '')\n",
    "                except: repo_fork = ''\n",
    "\n",
    "                try: repo_desc = v.getchildren()[1].getchildren()[0].text_content().strip().replace('\\n', '')\n",
    "                except: repo_desc = ''\n",
    "\n",
    "                user_repositories_list = user_repositories_list.append(\n",
    "                    {\n",
    "                        'user': repo_user,\n",
    "                        'name': repo_name,\n",
    "                        'fork': repo_fork,\n",
    "                        'desc': repo_desc\n",
    "                    },\n",
    "                    ignore_index = True)\n",
    "                \n",
    "    return user_repositories_list"
   ]
  },
  {
   "cell_type": "markdown",
   "id": "6b4bac45",
   "metadata": {},
   "source": [
    "- Extraindo os Dados"
   ]
  },
  {
   "cell_type": "code",
   "execution_count": 5,
   "id": "4f395741",
   "metadata": {},
   "outputs": [
    {
     "ename": "AttributeError",
     "evalue": "'HtmlElement' object has no attribute 'fromstring'",
     "output_type": "error",
     "traceback": [
      "\u001b[1;31m---------------------------------------------------------------------------\u001b[0m",
      "\u001b[1;31mAttributeError\u001b[0m                            Traceback (most recent call last)",
      "\u001b[1;32m<ipython-input-5-2c016acbf382>\u001b[0m in \u001b[0;36m<module>\u001b[1;34m\u001b[0m\n\u001b[0;32m      8\u001b[0m \u001b[1;33m\u001b[0m\u001b[0m\n\u001b[0;32m      9\u001b[0m     \u001b[1;31m# Retorna document_fromstring ou fragment_fromstring, com base em se a string parece um documento completo ou apenas um fragmento.\u001b[0m\u001b[1;33m\u001b[0m\u001b[1;33m\u001b[0m\u001b[1;33m\u001b[0m\u001b[0m\n\u001b[1;32m---> 10\u001b[1;33m     \u001b[0mhtml\u001b[0m \u001b[1;33m=\u001b[0m \u001b[0mhtml\u001b[0m\u001b[1;33m.\u001b[0m\u001b[0mfromstring\u001b[0m\u001b[1;33m(\u001b[0m\u001b[0mr\u001b[0m\u001b[1;33m.\u001b[0m\u001b[0mtext\u001b[0m\u001b[1;33m)\u001b[0m\u001b[1;33m\u001b[0m\u001b[1;33m\u001b[0m\u001b[0m\n\u001b[0m\u001b[0;32m     11\u001b[0m \u001b[1;33m\u001b[0m\u001b[0m\n\u001b[0;32m     12\u001b[0m     \u001b[1;31m# Chama a função para o scraping\u001b[0m\u001b[1;33m\u001b[0m\u001b[1;33m\u001b[0m\u001b[1;33m\u001b[0m\u001b[0m\n",
      "\u001b[1;31mAttributeError\u001b[0m: 'HtmlElement' object has no attribute 'fromstring'"
     ]
    }
   ],
   "source": [
    "# Dicionário para receber os dados\n",
    "user_repositories_list = pd.DataFrame(columns=['user', 'name', 'fork', 'desc'])\n",
    "\n",
    "# Neste loop executamos o scraping para cada url da lista e acumulamos os resultados em um dataframe.\n",
    "for URL in URL_LIST:\n",
    "    global html\n",
    "    \n",
    "    r = requests.get(URL)\n",
    "    assert r.status_code == 200, f\"Falha no request.\"\n",
    "\n",
    "    # Retorna document_fromstring ou fragment_fromstring, com base em se a string parece um documento completo ou apenas um fragmento.\n",
    "    html = html.fromstring(r.text)\n",
    "    \n",
    "    # Chama a função para o scraping\n",
    "    user_repositories_list = scraping_page(html)\n",
    "    \n",
    "print(user_repositories_list)"
   ]
  },
  {
   "cell_type": "markdown",
   "id": "bc2d7fc4",
   "metadata": {},
   "source": [
    "## Armazenando em um Banco de Dados"
   ]
  },
  {
   "cell_type": "markdown",
   "id": "0bea30ee-059b-4774-a75d-bcaae4731484",
   "metadata": {},
   "source": [
    "Para salvar o resultado em um banco de dados, temos que criar uma conexão com o banco de dados, criar uma tabela com os campos necessários e realizar o insert para cada registro do dataframe."
   ]
  },
  {
   "cell_type": "markdown",
   "id": "90681fa7",
   "metadata": {},
   "source": [
    "- Criando uma conexão"
   ]
  },
  {
   "cell_type": "code",
   "execution_count": null,
   "id": "b63d3cb6",
   "metadata": {},
   "outputs": [],
   "source": [
    "# Criando um banco e uma conexão.\n",
    "con = sqlite3.connect('proj_20210623.db')\n",
    "# Criando um cursor para acessar os dados.\n",
    "cur = con.cursor()"
   ]
  },
  {
   "cell_type": "markdown",
   "id": "8896fa25-6e8b-4736-84f9-143ab7d71be6",
   "metadata": {},
   "source": [
    "- Criando os scripts necessários"
   ]
  },
  {
   "cell_type": "code",
   "execution_count": null,
   "id": "20abe6a8",
   "metadata": {},
   "outputs": [],
   "source": [
    "# Definindo as instruções sql necessárias\n",
    "sql_delete_table = '''DELETE FROM user_repositories_list'''\n",
    "sql_create_table = '''CREATE TABLE IF NOT EXISTS user_repositories_list (user text, name text, fork text, desc text)'''\n",
    "sql_insert_table = '''INSERT INTO user_repositories_list (user, name, fork, desc) VALUES (?, ?, ?, ?)'''\n",
    "sql_query = '''SELECT * FROM user_repositories_list'''"
   ]
  },
  {
   "cell_type": "markdown",
   "id": "b47a3441",
   "metadata": {},
   "source": [
    "- Criando uma tabela"
   ]
  },
  {
   "cell_type": "code",
   "execution_count": null,
   "id": "e5fdfe66",
   "metadata": {},
   "outputs": [],
   "source": [
    "# Criando a tabela\n",
    "if OVERWRITE:\n",
    "    try:\n",
    "        cur.execute(sql_delete_table)\n",
    "        pass\n",
    "    finally:\n",
    "        cur.execute(sql_create_table)\n",
    "    con.commit()"
   ]
  },
  {
   "cell_type": "markdown",
   "id": "1d2b8b56",
   "metadata": {},
   "source": [
    "- Inserindo os Dados"
   ]
  },
  {
   "cell_type": "code",
   "execution_count": null,
   "id": "3800595a",
   "metadata": {},
   "outputs": [],
   "source": [
    "# Inserindo os dados\n",
    "for r in user_repositories_list.itertuples():\n",
    "    cur.execute(sql_insert_table, r[1:5])\n",
    "con.commit()"
   ]
  },
  {
   "cell_type": "markdown",
   "id": "0c57ea30",
   "metadata": {},
   "source": [
    "- Recuperando os dados"
   ]
  },
  {
   "cell_type": "code",
   "execution_count": null,
   "id": "977a93ac",
   "metadata": {},
   "outputs": [],
   "source": [
    "pd.read_sql_query(sql_query, con)"
   ]
  },
  {
   "cell_type": "markdown",
   "id": "45571be9",
   "metadata": {},
   "source": [
    "- Modificando os dados"
   ]
  },
  {
   "cell_type": "code",
   "execution_count": null,
   "id": "043db89d",
   "metadata": {},
   "outputs": [],
   "source": [
    "# Não vou precisar modificar estes dados, mas caso queira saber, isso seria possível da seguinte forma:\n",
    "sql_udt_desc = '''UPDATE user_repositories_list SET desc = \"SEM DESCRIÇÃO\" WHERE desc = \"\"'''\n",
    "cur.execute(sql_udt_desc)\n",
    "con.commit()"
   ]
  },
  {
   "cell_type": "code",
   "execution_count": null,
   "id": "6ba6bf2b",
   "metadata": {},
   "outputs": [],
   "source": [
    "con.close()"
   ]
  },
  {
   "cell_type": "markdown",
   "id": "07ca9d12",
   "metadata": {},
   "source": [
    "## Fim"
   ]
  }
 ],
 "metadata": {
  "kernelspec": {
   "display_name": "Python 3",
   "language": "python",
   "name": "python3"
  },
  "language_info": {
   "codemirror_mode": {
    "name": "ipython",
    "version": 3
   },
   "file_extension": ".py",
   "mimetype": "text/x-python",
   "name": "python",
   "nbconvert_exporter": "python",
   "pygments_lexer": "ipython3",
   "version": "3.8.8"
  }
 },
 "nbformat": 4,
 "nbformat_minor": 5
}
