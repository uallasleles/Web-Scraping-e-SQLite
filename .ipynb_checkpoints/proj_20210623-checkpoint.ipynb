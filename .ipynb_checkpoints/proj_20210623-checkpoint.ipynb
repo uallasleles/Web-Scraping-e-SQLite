{
 "cells": [
  {
   "cell_type": "markdown",
   "id": "7dba40f3",
   "metadata": {},
   "source": [
    "# Web Scraping e SQLite"
   ]
  },
  {
   "cell_type": "markdown",
   "id": "e1d3ce3f",
   "metadata": {},
   "source": [
    "## Obtendo dados de páginas web e salvando em um banco de dados"
   ]
  },
  {
   "cell_type": "markdown",
   "id": "8ec5e74d",
   "metadata": {},
   "source": [
    "<p>O objetivo deste projeto é obter dados de páginas web através de web scraping e salvá-los em um banco de dados SQLite.</p>\n",
    "<p>Neste trabalho, especificamente, não há preocupação na relevância dos dados ou na exploração de insights. A finalidade é construir um workflow básico que faça a extração e estruturação dos dados para etapas seguintes.</p>"
   ]
  },
  {
   "cell_type": "markdown",
   "id": "1e2ee858",
   "metadata": {},
   "source": [
    "#### Definição do Problema\n",
    "- Vamos obter dados de listas de repositórios no GitHub através de web scraping, e então salvá-los em um banco de dados."
   ]
  },
  {
   "cell_type": "markdown",
   "id": "f2720143",
   "metadata": {},
   "source": [
    "## Mão na Massa"
   ]
  },
  {
   "cell_type": "markdown",
   "id": "b05fe5a3",
   "metadata": {},
   "source": [
    "### Importação dos Pacotes"
   ]
  },
  {
   "cell_type": "code",
   "execution_count": 1,
   "id": "9880b01b",
   "metadata": {},
   "outputs": [],
   "source": [
    "import requests\n",
    "from lxml import html\n",
    "import pandas as pd\n",
    "import sqlite3"
   ]
  },
  {
   "cell_type": "markdown",
   "id": "421dc6c8",
   "metadata": {},
   "source": [
    "### Obtendo os Dados"
   ]
  },
  {
   "cell_type": "code",
   "execution_count": 2,
   "id": "393acf0e",
   "metadata": {},
   "outputs": [],
   "source": [
    "# VARIÁVEIS\n",
    "OVERWRITE = False\n",
    "\n",
    "# Caso deseje acumular ou não as listas de reposiórios de diferentes usuários"
   ]
  },
  {
   "cell_type": "code",
   "execution_count": 3,
   "id": "c3609d9a",
   "metadata": {},
   "outputs": [],
   "source": [
    "# URL's\n",
    "URL_LIST = []\n",
    "URL_LIST.append('https://github.com/uallasleles?tab=repositories')\n",
    "URL_LIST.append('https://github.com/vitorfs?tab=repositories')\n",
    "URL_LIST.append('https://github.com/franklin390?tab=repositories')\n",
    "URL_LIST.append('https://github.com/VictorSRocha?tab=repositories')\n",
    "\n",
    "# Aqui colocamos a url da aba repositórios da página de cada usuário desejado"
   ]
  },
  {
   "cell_type": "markdown",
   "id": "44ca5255",
   "metadata": {},
   "source": [
    "- Criando a função para extrair os dados"
   ]
  },
  {
   "cell_type": "code",
   "execution_count": 4,
   "id": "cf9b3371",
   "metadata": {},
   "outputs": [],
   "source": [
    "# Esta é a função que realiza a extração dos dados da página web.\n",
    "def scraping_page(html):\n",
    "    global user_repositories_list\n",
    "    \n",
    "    # Obtem um fragmento do html\n",
    "    e = html.get_element_by_id(\"user-repositories-list\")\n",
    "    \n",
    "    # Extraio os elementos\n",
    "    for i in e.getchildren()[0]:\n",
    "        for v in i.getchildren()[0:3]:\n",
    "\n",
    "            try: repo_user = URL\n",
    "            except: repo_user = ''\n",
    "\n",
    "            try: repo_name = v.getchildren()[0].getchildren()[0].text_content().strip().replace('\\n', '')\n",
    "            except: repo_name = ''\n",
    "\n",
    "            if len(repo_name) != 0:\n",
    "                try: repo_fork = v.getchildren()[0].getchildren()[1].text_content().strip().replace('\\n', '')\n",
    "                except: repo_fork = ''\n",
    "\n",
    "                try: repo_desc = v.getchildren()[1].getchildren()[0].text_content().strip().replace('\\n', '')\n",
    "                except: repo_desc = ''\n",
    "\n",
    "                user_repositories_list = user_repositories_list.append(\n",
    "                    {\n",
    "                        'user': repo_user,\n",
    "                        'name': repo_name,\n",
    "                        'fork': repo_fork,\n",
    "                        'desc': repo_desc\n",
    "                    },\n",
    "                    ignore_index = True)\n",
    "                \n",
    "    return user_repositories_list"
   ]
  },
  {
   "cell_type": "markdown",
   "id": "6b4bac45",
   "metadata": {},
   "source": [
    "- Extraindo os Dados"
   ]
  },
  {
   "cell_type": "code",
   "execution_count": 5,
   "id": "4f395741",
   "metadata": {},
   "outputs": [],
   "source": [
    "# Dicionário para receber os dados\n",
    "user_repositories_list = pd.DataFrame(columns=['user', 'name', 'fork', 'desc'])\n",
    "\n",
    "# Neste loop executamos o scraping para cada url da lista e acumulamos os resultados em um dataframe.\n",
    "for URL in URL_LIST:\n",
    "    \n",
    "    r = requests.get(URL)\n",
    "    assert r.status_code == 200, f\"Falha no request.\"\n",
    "\n",
    "    # Retorna document_fromstring ou fragment_fromstring, com base em se a string parece um documento completo ou apenas um fragmento.\n",
    "    HTML = html.fromstring(r.text)\n",
    "    \n",
    "    # Chama a função para o scraping\n",
    "    user_repositories_list = scraping_page(HTML)"
   ]
  },
  {
   "cell_type": "code",
   "execution_count": 6,
   "id": "cf6aa738-b1ea-416d-9c21-838429aa8325",
   "metadata": {},
   "outputs": [
    {
     "data": {
      "text/html": [
       "<div>\n",
       "<style scoped>\n",
       "    .dataframe tbody tr th:only-of-type {\n",
       "        vertical-align: middle;\n",
       "    }\n",
       "\n",
       "    .dataframe tbody tr th {\n",
       "        vertical-align: top;\n",
       "    }\n",
       "\n",
       "    .dataframe thead th {\n",
       "        text-align: right;\n",
       "    }\n",
       "</style>\n",
       "<table border=\"1\" class=\"dataframe\">\n",
       "  <thead>\n",
       "    <tr style=\"text-align: right;\">\n",
       "      <th></th>\n",
       "      <th>user</th>\n",
       "      <th>name</th>\n",
       "      <th>fork</th>\n",
       "      <th>desc</th>\n",
       "    </tr>\n",
       "  </thead>\n",
       "  <tbody>\n",
       "    <tr>\n",
       "      <th>0</th>\n",
       "      <td>https://github.com/uallasleles?tab=repositories</td>\n",
       "      <td>proj_20210623-Scraping_SQLite</td>\n",
       "      <td></td>\n",
       "      <td>Fazendo scraping e salvando os dados em um ban...</td>\n",
       "    </tr>\n",
       "    <tr>\n",
       "      <th>1</th>\n",
       "      <td>https://github.com/uallasleles?tab=repositories</td>\n",
       "      <td>uallasleles.github.io</td>\n",
       "      <td></td>\n",
       "      <td></td>\n",
       "    </tr>\n",
       "    <tr>\n",
       "      <th>2</th>\n",
       "      <td>https://github.com/uallasleles?tab=repositories</td>\n",
       "      <td>proj_20210619-Early_Stage_Diabetes_Risk_Predic...</td>\n",
       "      <td></td>\n",
       "      <td></td>\n",
       "    </tr>\n",
       "    <tr>\n",
       "      <th>3</th>\n",
       "      <td>https://github.com/uallasleles?tab=repositories</td>\n",
       "      <td>portfolio</td>\n",
       "      <td></td>\n",
       "      <td>Relação de projetos, ideias e habilidades dese...</td>\n",
       "    </tr>\n",
       "    <tr>\n",
       "      <th>4</th>\n",
       "      <td>https://github.com/uallasleles?tab=repositories</td>\n",
       "      <td>odoo</td>\n",
       "      <td>Forked from odoo/odoo</td>\n",
       "      <td>Odoo. Open Source Apps To Grow Your Business.</td>\n",
       "    </tr>\n",
       "    <tr>\n",
       "      <th>5</th>\n",
       "      <td>https://github.com/uallasleles?tab=repositories</td>\n",
       "      <td>maintainer-tools</td>\n",
       "      <td>Forked from OCA/maintainer-tools</td>\n",
       "      <td>Odoo Maintainers Tools &amp; conventions for OCA m...</td>\n",
       "    </tr>\n",
       "    <tr>\n",
       "      <th>6</th>\n",
       "      <td>https://github.com/uallasleles?tab=repositories</td>\n",
       "      <td>unimed_bi</td>\n",
       "      <td>Forked from dudanogueira/unimed_bi</td>\n",
       "      <td>Sistema de Business Intelligence e Data Analyt...</td>\n",
       "    </tr>\n",
       "    <tr>\n",
       "      <th>7</th>\n",
       "      <td>https://github.com/uallasleles?tab=repositories</td>\n",
       "      <td>orun</td>\n",
       "      <td>Forked from katrid/orun</td>\n",
       "      <td>Orun. Build Your Own Custom Python ERP/CRM Sof...</td>\n",
       "    </tr>\n",
       "    <tr>\n",
       "      <th>8</th>\n",
       "      <td>https://github.com/uallasleles?tab=repositories</td>\n",
       "      <td>Odoo-14-Development-Cookbook-Fourth-Edition</td>\n",
       "      <td>Forked from PacktPublishing/Odoo-14-Developmen...</td>\n",
       "      <td>Odoo 14 Development Cookbook - Fourth Edition,...</td>\n",
       "    </tr>\n",
       "    <tr>\n",
       "      <th>9</th>\n",
       "      <td>https://github.com/uallasleles?tab=repositories</td>\n",
       "      <td>Odoo-12-Development-Essentials-Fourth-Edition</td>\n",
       "      <td>Forked from PacktPublishing/Odoo-12-Developmen...</td>\n",
       "      <td>Odoo 12 Development Essentials, Fourth Edition...</td>\n",
       "    </tr>\n",
       "  </tbody>\n",
       "</table>\n",
       "</div>"
      ],
      "text/plain": [
       "                                              user  \\\n",
       "0  https://github.com/uallasleles?tab=repositories   \n",
       "1  https://github.com/uallasleles?tab=repositories   \n",
       "2  https://github.com/uallasleles?tab=repositories   \n",
       "3  https://github.com/uallasleles?tab=repositories   \n",
       "4  https://github.com/uallasleles?tab=repositories   \n",
       "5  https://github.com/uallasleles?tab=repositories   \n",
       "6  https://github.com/uallasleles?tab=repositories   \n",
       "7  https://github.com/uallasleles?tab=repositories   \n",
       "8  https://github.com/uallasleles?tab=repositories   \n",
       "9  https://github.com/uallasleles?tab=repositories   \n",
       "\n",
       "                                                name  \\\n",
       "0                      proj_20210623-Scraping_SQLite   \n",
       "1                              uallasleles.github.io   \n",
       "2  proj_20210619-Early_Stage_Diabetes_Risk_Predic...   \n",
       "3                                          portfolio   \n",
       "4                                               odoo   \n",
       "5                                   maintainer-tools   \n",
       "6                                          unimed_bi   \n",
       "7                                               orun   \n",
       "8        Odoo-14-Development-Cookbook-Fourth-Edition   \n",
       "9      Odoo-12-Development-Essentials-Fourth-Edition   \n",
       "\n",
       "                                                fork  \\\n",
       "0                                                      \n",
       "1                                                      \n",
       "2                                                      \n",
       "3                                                      \n",
       "4                              Forked from odoo/odoo   \n",
       "5                   Forked from OCA/maintainer-tools   \n",
       "6                 Forked from dudanogueira/unimed_bi   \n",
       "7                            Forked from katrid/orun   \n",
       "8  Forked from PacktPublishing/Odoo-14-Developmen...   \n",
       "9  Forked from PacktPublishing/Odoo-12-Developmen...   \n",
       "\n",
       "                                                desc  \n",
       "0  Fazendo scraping e salvando os dados em um ban...  \n",
       "1                                                     \n",
       "2                                                     \n",
       "3  Relação de projetos, ideias e habilidades dese...  \n",
       "4      Odoo. Open Source Apps To Grow Your Business.  \n",
       "5  Odoo Maintainers Tools & conventions for OCA m...  \n",
       "6  Sistema de Business Intelligence e Data Analyt...  \n",
       "7  Orun. Build Your Own Custom Python ERP/CRM Sof...  \n",
       "8  Odoo 14 Development Cookbook - Fourth Edition,...  \n",
       "9  Odoo 12 Development Essentials, Fourth Edition...  "
      ]
     },
     "execution_count": 6,
     "metadata": {},
     "output_type": "execute_result"
    }
   ],
   "source": [
    "# Conferindo os dados\n",
    "user_repositories_list.head(10)"
   ]
  },
  {
   "cell_type": "markdown",
   "id": "bc2d7fc4",
   "metadata": {},
   "source": [
    "## Armazenando em um Banco de Dados"
   ]
  },
  {
   "cell_type": "markdown",
   "id": "0bea30ee-059b-4774-a75d-bcaae4731484",
   "metadata": {},
   "source": [
    "Para salvar o resultado temos que criar uma conexão com o banco de dados, criar uma tabela com os campos necessários e realizar o insert para cada registro do dataframe."
   ]
  },
  {
   "cell_type": "markdown",
   "id": "90681fa7",
   "metadata": {},
   "source": [
    "- Criando uma conexão"
   ]
  },
  {
   "cell_type": "code",
   "execution_count": 7,
   "id": "b63d3cb6",
   "metadata": {},
   "outputs": [],
   "source": [
    "# Criando um banco e uma conexão.\n",
    "con = sqlite3.connect('proj_20210623.db')\n",
    "# Criando um cursor para acessar os dados.\n",
    "cur = con.cursor()"
   ]
  },
  {
   "cell_type": "markdown",
   "id": "8896fa25-6e8b-4736-84f9-143ab7d71be6",
   "metadata": {},
   "source": [
    "- Criando os scripts necessários"
   ]
  },
  {
   "cell_type": "code",
   "execution_count": 8,
   "id": "20abe6a8",
   "metadata": {},
   "outputs": [],
   "source": [
    "# Definindo as instruções sql necessárias\n",
    "sql_delete_table = '''DELETE FROM user_repositories_list'''\n",
    "sql_create_table = '''CREATE TABLE IF NOT EXISTS user_repositories_list (user text, name text, fork text, desc text)'''\n",
    "sql_insert_table = '''INSERT INTO user_repositories_list (user, name, fork, desc) VALUES (?, ?, ?, ?)'''\n",
    "sql_query = '''SELECT * FROM user_repositories_list'''"
   ]
  },
  {
   "cell_type": "markdown",
   "id": "b47a3441",
   "metadata": {},
   "source": [
    "- Criando uma tabela"
   ]
  },
  {
   "cell_type": "code",
   "execution_count": 9,
   "id": "e5fdfe66",
   "metadata": {},
   "outputs": [],
   "source": [
    "# Criando a tabela\n",
    "try:\n",
    "    cur.execute(sql_create_table)\n",
    "finally:\n",
    "    if OVERWRITE:\n",
    "        cur.execute(sql_delete_table)"
   ]
  },
  {
   "cell_type": "markdown",
   "id": "1d2b8b56",
   "metadata": {},
   "source": [
    "- Inserindo os Dados"
   ]
  },
  {
   "cell_type": "code",
   "execution_count": 10,
   "id": "3800595a",
   "metadata": {},
   "outputs": [],
   "source": [
    "# Inserindo os dados\n",
    "for r in user_repositories_list.itertuples():\n",
    "    cur.execute(sql_insert_table, r[1:])\n",
    "con.commit()"
   ]
  },
  {
   "cell_type": "markdown",
   "id": "0c57ea30",
   "metadata": {},
   "source": [
    "- Recuperando os dados"
   ]
  },
  {
   "cell_type": "code",
   "execution_count": 11,
   "id": "977a93ac",
   "metadata": {},
   "outputs": [
    {
     "data": {
      "text/html": [
       "<div>\n",
       "<style scoped>\n",
       "    .dataframe tbody tr th:only-of-type {\n",
       "        vertical-align: middle;\n",
       "    }\n",
       "\n",
       "    .dataframe tbody tr th {\n",
       "        vertical-align: top;\n",
       "    }\n",
       "\n",
       "    .dataframe thead th {\n",
       "        text-align: right;\n",
       "    }\n",
       "</style>\n",
       "<table border=\"1\" class=\"dataframe\">\n",
       "  <thead>\n",
       "    <tr style=\"text-align: right;\">\n",
       "      <th></th>\n",
       "      <th>user</th>\n",
       "      <th>name</th>\n",
       "      <th>fork</th>\n",
       "      <th>desc</th>\n",
       "    </tr>\n",
       "  </thead>\n",
       "  <tbody>\n",
       "    <tr>\n",
       "      <th>0</th>\n",
       "      <td>https://github.com/uallasleles?tab=repositories</td>\n",
       "      <td>uallasleles.github.io</td>\n",
       "      <td></td>\n",
       "      <td>SEM DESCRIÇÃO</td>\n",
       "    </tr>\n",
       "    <tr>\n",
       "      <th>1</th>\n",
       "      <td>https://github.com/uallasleles?tab=repositories</td>\n",
       "      <td>proj_20210619-Early_Stage_Diabetes_Risk_Predic...</td>\n",
       "      <td></td>\n",
       "      <td>SEM DESCRIÇÃO</td>\n",
       "    </tr>\n",
       "    <tr>\n",
       "      <th>2</th>\n",
       "      <td>https://github.com/uallasleles?tab=repositories</td>\n",
       "      <td>portfolio</td>\n",
       "      <td></td>\n",
       "      <td>Relação de projetos, ideias e habilidades dese...</td>\n",
       "    </tr>\n",
       "    <tr>\n",
       "      <th>3</th>\n",
       "      <td>https://github.com/uallasleles?tab=repositories</td>\n",
       "      <td>odoo</td>\n",
       "      <td>Forked from odoo/odoo</td>\n",
       "      <td>Odoo. Open Source Apps To Grow Your Business.</td>\n",
       "    </tr>\n",
       "    <tr>\n",
       "      <th>4</th>\n",
       "      <td>https://github.com/uallasleles?tab=repositories</td>\n",
       "      <td>maintainer-tools</td>\n",
       "      <td>Forked from OCA/maintainer-tools</td>\n",
       "      <td>Odoo Maintainers Tools &amp; conventions for OCA m...</td>\n",
       "    </tr>\n",
       "    <tr>\n",
       "      <th>...</th>\n",
       "      <td>...</td>\n",
       "      <td>...</td>\n",
       "      <td>...</td>\n",
       "      <td>...</td>\n",
       "    </tr>\n",
       "    <tr>\n",
       "      <th>317</th>\n",
       "      <td>https://github.com/franklin390?tab=repositories</td>\n",
       "      <td>Project_02_Group_Bimbo_Inventory_Demand</td>\n",
       "      <td></td>\n",
       "      <td>Neste projeto de aprendizado de máquina, vamos...</td>\n",
       "    </tr>\n",
       "    <tr>\n",
       "      <th>318</th>\n",
       "      <td>https://github.com/VictorSRocha?tab=repositories</td>\n",
       "      <td>VictorSRocha.github.io</td>\n",
       "      <td></td>\n",
       "      <td>Website Profile</td>\n",
       "    </tr>\n",
       "    <tr>\n",
       "      <th>319</th>\n",
       "      <td>https://github.com/VictorSRocha?tab=repositories</td>\n",
       "      <td>Prevendo-o-Nivel-de-Satisfacao-dos-Clientes</td>\n",
       "      <td></td>\n",
       "      <td></td>\n",
       "    </tr>\n",
       "    <tr>\n",
       "      <th>320</th>\n",
       "      <td>https://github.com/VictorSRocha?tab=repositories</td>\n",
       "      <td>Prevendo-Demanda-de-Estoque-com-Base-em-Vendas</td>\n",
       "      <td></td>\n",
       "      <td>Projeto para criação de um modelo para Previsã...</td>\n",
       "    </tr>\n",
       "    <tr>\n",
       "      <th>321</th>\n",
       "      <td>https://github.com/VictorSRocha?tab=repositories</td>\n",
       "      <td>Deteccao-de-Fraudes-no-Trafego-de-Cliques-em-P...</td>\n",
       "      <td></td>\n",
       "      <td>Projeto para criação de um algoritmo para Dete...</td>\n",
       "    </tr>\n",
       "  </tbody>\n",
       "</table>\n",
       "<p>322 rows × 4 columns</p>\n",
       "</div>"
      ],
      "text/plain": [
       "                                                 user  \\\n",
       "0     https://github.com/uallasleles?tab=repositories   \n",
       "1     https://github.com/uallasleles?tab=repositories   \n",
       "2     https://github.com/uallasleles?tab=repositories   \n",
       "3     https://github.com/uallasleles?tab=repositories   \n",
       "4     https://github.com/uallasleles?tab=repositories   \n",
       "..                                                ...   \n",
       "317   https://github.com/franklin390?tab=repositories   \n",
       "318  https://github.com/VictorSRocha?tab=repositories   \n",
       "319  https://github.com/VictorSRocha?tab=repositories   \n",
       "320  https://github.com/VictorSRocha?tab=repositories   \n",
       "321  https://github.com/VictorSRocha?tab=repositories   \n",
       "\n",
       "                                                  name  \\\n",
       "0                                uallasleles.github.io   \n",
       "1    proj_20210619-Early_Stage_Diabetes_Risk_Predic...   \n",
       "2                                            portfolio   \n",
       "3                                                 odoo   \n",
       "4                                     maintainer-tools   \n",
       "..                                                 ...   \n",
       "317            Project_02_Group_Bimbo_Inventory_Demand   \n",
       "318                             VictorSRocha.github.io   \n",
       "319        Prevendo-o-Nivel-de-Satisfacao-dos-Clientes   \n",
       "320     Prevendo-Demanda-de-Estoque-com-Base-em-Vendas   \n",
       "321  Deteccao-de-Fraudes-no-Trafego-de-Cliques-em-P...   \n",
       "\n",
       "                                 fork  \\\n",
       "0                                       \n",
       "1                                       \n",
       "2                                       \n",
       "3               Forked from odoo/odoo   \n",
       "4    Forked from OCA/maintainer-tools   \n",
       "..                                ...   \n",
       "317                                     \n",
       "318                                     \n",
       "319                                     \n",
       "320                                     \n",
       "321                                     \n",
       "\n",
       "                                                  desc  \n",
       "0                                        SEM DESCRIÇÃO  \n",
       "1                                        SEM DESCRIÇÃO  \n",
       "2    Relação de projetos, ideias e habilidades dese...  \n",
       "3        Odoo. Open Source Apps To Grow Your Business.  \n",
       "4    Odoo Maintainers Tools & conventions for OCA m...  \n",
       "..                                                 ...  \n",
       "317  Neste projeto de aprendizado de máquina, vamos...  \n",
       "318                                    Website Profile  \n",
       "319                                                     \n",
       "320  Projeto para criação de um modelo para Previsã...  \n",
       "321  Projeto para criação de um algoritmo para Dete...  \n",
       "\n",
       "[322 rows x 4 columns]"
      ]
     },
     "execution_count": 11,
     "metadata": {},
     "output_type": "execute_result"
    }
   ],
   "source": [
    "pd.read_sql_query(sql_query, con)"
   ]
  },
  {
   "cell_type": "markdown",
   "id": "45571be9",
   "metadata": {},
   "source": [
    "- Modificando os dados"
   ]
  },
  {
   "cell_type": "code",
   "execution_count": 12,
   "id": "043db89d",
   "metadata": {},
   "outputs": [],
   "source": [
    "# Não vou precisar modificar estes dados, mas caso queira saber, isso seria possível da seguinte forma:\n",
    "sql_udt_desc = '''UPDATE user_repositories_list SET desc = \"SEM DESCRIÇÃO\" WHERE desc = \"\"'''\n",
    "cur.execute(sql_udt_desc)\n",
    "con.commit()"
   ]
  },
  {
   "cell_type": "code",
   "execution_count": 13,
   "id": "6ba6bf2b",
   "metadata": {},
   "outputs": [],
   "source": [
    "con.close()"
   ]
  },
  {
   "cell_type": "markdown",
   "id": "bfe78918-5852-4f8f-bf39-9c9fb3be4fc4",
   "metadata": {},
   "source": [
    "## Conclusão\n",
    "Criei uma sequencia de código para extrair dados de uma página web, então salvei estes dados em um banco de dados SQLite chamado 'proj_20210623.db'. A única parte que exige um pouco mais de trabalho é a construção da lógica do scraping, pois você terá que analisar a estrutura do documento html, identificar tags e definir uma estratégia para extrair o conteúdo desejado.\n",
    "Após a execução do processo, podemos recuperar estes dados para análise, ou então, dar sequencia utilizando linguagem SQL para gerar consultas, gerarmos relatórios, procedimentos, agregação com outros conjuntos de dados, transferí-los para outras pessoas, etc."
   ]
  },
  {
   "cell_type": "markdown",
   "id": "07ca9d12",
   "metadata": {},
   "source": [
    "## Fim"
   ]
  }
 ],
 "metadata": {
  "kernelspec": {
   "display_name": "Python 3",
   "language": "python",
   "name": "python3"
  },
  "language_info": {
   "codemirror_mode": {
    "name": "ipython",
    "version": 3
   },
   "file_extension": ".py",
   "mimetype": "text/x-python",
   "name": "python",
   "nbconvert_exporter": "python",
   "pygments_lexer": "ipython3",
   "version": "3.8.8"
  }
 },
 "nbformat": 4,
 "nbformat_minor": 5
}
